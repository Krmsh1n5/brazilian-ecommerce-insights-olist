{
 "cells": [
  {
   "cell_type": "markdown",
   "metadata": {},
   "source": [
    "## Analyzing Brazilian E-Commerce Dynamics  \n",
    "\n",
    "**Objective**: Investigate customer behavior, seller performance, and operational bottlenecks in Olist’s marketplace using real-world transactional data.  \n",
    "\n",
    "**Dataset**: Includes 100k+ orders, 9 relational tables (customers, sellers, products, reviews, etc.).  \n",
    "\n",
    "**Methodology**:  \n",
    "1. **Data Cleaning**: Geolocation validation, payment anomaly detection.  \n",
    "2. **EDA**: Customer segmentation, delivery time vs. satisfaction trends.  \n",
    "3. **Hypothesis Testing**: Pricing bias across regions, seller efficiency impact.  \n",
    "4. **Advanced Analytics**: PCA for customer behavior patterns.  \n",
    "\n",
    "**Business Impact**: Recommendations for improving customer retention, delivery logistics, and seller performance.  "
   ]
  },
  {
   "cell_type": "code",
   "execution_count": 3,
   "metadata": {},
   "outputs": [],
   "source": [
    "# Core Imports\n",
    "import os\n",
    "import zipfile\n",
    "import numpy as np\n",
    "import pandas as pd\n",
    "\n",
    "# Visualization\n",
    "import matplotlib.pyplot as plt\n",
    "import seaborn as sns\n",
    "import plotly.express as px\n",
    "import plotly.graph_objects as go\n",
    "%matplotlib inline\n",
    "\n",
    "# Statistical Analysis\n",
    "from scipy import stats\n",
    "from scipy.stats import spearmanr, kruskal\n",
    "\n",
    "# Machine Learning & Dimensionality Reduction\n",
    "from sklearn.preprocessing import StandardScaler, TargetEncoder\n",
    "from sklearn.decomposition import PCA\n",
    "import umap.umap_ as umap\n",
    "\n",
    "# Kaggle Dataset Download\n",
    "import kagglehub"
   ]
  },
  {
   "cell_type": "code",
   "execution_count": 4,
   "metadata": {},
   "outputs": [
    {
     "name": "stdout",
     "output_type": "stream",
     "text": [
      "Downloading from https://www.kaggle.com/api/v1/datasets/download/olistbr/brazilian-ecommerce?dataset_version_number=2...\n"
     ]
    },
    {
     "name": "stderr",
     "output_type": "stream",
     "text": [
      "100%|██████████| 42.6M/42.6M [00:04<00:00, 9.06MB/s]"
     ]
    },
    {
     "name": "stdout",
     "output_type": "stream",
     "text": [
      "Extracting files...\n"
     ]
    },
    {
     "name": "stderr",
     "output_type": "stream",
     "text": [
      "\n"
     ]
    },
    {
     "name": "stdout",
     "output_type": "stream",
     "text": [
      "Dataset downloaded to /home/krmsh1n5/.cache/kagglehub/datasets/olistbr/brazilian-ecommerce/versions/2\n",
      "Downloaded file is not a zip archive.\n"
     ]
    }
   ],
   "source": [
    "try:\n",
    "    dataset_path = kagglehub.dataset_download(\"olistbr/brazilian-ecommerce\")\n",
    "    print(f'Dataset downloaded to {dataset_path}')\n",
    "\n",
    "    if zipfile.is_zipfile(dataset_path):\n",
    "        with zipfile.ZipFile(dataset_path, 'r') as zip_ref:\n",
    "            zip_ref.extractall('data/')\n",
    "            print(f'Dataset extracted to data/ directory')\n",
    "    else:\n",
    "        print('Downloaded file is not a zip archive.')\n",
    "except Exception as e:\n",
    "    print(f'Error downloading dataset: {e}')\n",
    "    print(\"Alternative: Download manually from https://www.kaggle.com/datasets/olistbr/brazilian-ecommerce\")"
   ]
  },
  {
   "cell_type": "code",
   "execution_count": 11,
   "metadata": {},
   "outputs": [
    {
     "name": "stdout",
     "output_type": "stream",
     "text": [
      "Loaded customers dataset: (99441, 5)\n",
      "Loaded orders dataset: (99441, 8)\n",
      "Loaded order_items dataset: (112650, 7)\n",
      "Loaded products dataset: (32951, 9)\n",
      "Loaded sellers dataset: (3095, 4)\n",
      "Loaded reviews dataset: (99224, 7)\n"
     ]
    }
   ],
   "source": [
    "data_files = {\n",
    "    \"customers\": \"olist_customers_dataset.csv\",\n",
    "    \"orders\": \"olist_orders_dataset.csv\",\n",
    "    \"order_items\": \"olist_order_items_dataset.csv\",\n",
    "    \"products\": \"olist_products_dataset.csv\",\n",
    "    \"sellers\": \"olist_sellers_dataset.csv\",\n",
    "    \"reviews\": \"olist_order_reviews_dataset.csv\"\n",
    "}\n",
    "\n",
    "datasets = {}\n",
    "try:\n",
    "    for name, file in data_files.items():\n",
    "        file_path = os.path.join(dataset_path, file)\n",
    "        datasets[name] = pd.read_csv(file_path, encoding='latin-1')\n",
    "        print(f\"Loaded {name} dataset: {datasets[name].shape}\")\n",
    "except FileNotFoundError as e:\n",
    "    print(f'File not found: {e}')\n",
    "    print(\"Verify dataset files are in /data directory\")"
   ]
  }
 ],
 "metadata": {
  "kernelspec": {
   "display_name": "base",
   "language": "python",
   "name": "python3"
  },
  "language_info": {
   "codemirror_mode": {
    "name": "ipython",
    "version": 3
   },
   "file_extension": ".py",
   "mimetype": "text/x-python",
   "name": "python",
   "nbconvert_exporter": "python",
   "pygments_lexer": "ipython3",
   "version": "3.12.4"
  }
 },
 "nbformat": 4,
 "nbformat_minor": 2
}
